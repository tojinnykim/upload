{
 "cells": [
  {
   "cell_type": "code",
   "execution_count": 10,
   "id": "f0ebca96",
   "metadata": {},
   "outputs": [],
   "source": [
    "import requests\n",
    "import dotenv\n",
    "import os\n",
    "dotenv.load_dotenv()  # .env 환경변수 파일을 로드함\n",
    "\n",
    "key = os.getenv(\"SEOUL_SUBWAY_API\")"
   ]
  },
  {
   "cell_type": "code",
   "execution_count": 11,
   "id": "528ee948",
   "metadata": {},
   "outputs": [
    {
     "data": {
      "text/plain": [
       "200"
      ]
     },
     "execution_count": 11,
     "metadata": {},
     "output_type": "execute_result"
    }
   ],
   "source": [
    "# 지하철 실시간 도착정보  https://data.seoul.go.kr/dataList/OA-12764/F/1/datasetView.do\n",
    "# http://swopenAPI.seoul.go.kr/api/subway/(인증키)/xml/realtimeStationArrival/0/5/서울\n",
    "\n",
    "url = f'http://swopenAPI.seoul.go.kr/api/subway/{key}/json/realtimeStationArrival/0/100/강남'\n",
    "response = requests.get(url)\n",
    "response.status_code"
   ]
  },
  {
   "cell_type": "code",
   "execution_count": 12,
   "id": "d4dfdef9",
   "metadata": {},
   "outputs": [
    {
     "name": "stdout",
     "output_type": "stream",
     "text": [
      "열차종류:일반 도착예정시간:1분 30초\n",
      "성수행 - 역삼방면 강남 1002000223 1002000222 1002000221\n",
      "****************************************************************************************************\n",
      "열차종류:일반 도착예정시간:0분 0초\n",
      "신사행 - 신논현방면 강남 1077000688 1077000687 1077000686\n",
      "****************************************************************************************************\n",
      "열차종류:일반 도착예정시간:4분 30초\n",
      "성수행 - 역삼방면 강남 1002000223 1002000222 1002000221\n",
      "****************************************************************************************************\n",
      "열차종류:일반 도착예정시간:0분 0초\n",
      "신사행 - 신논현방면 강남 1077000688 1077000687 1077000686\n",
      "****************************************************************************************************\n",
      "열차종류:일반 도착예정시간:0분 0초\n",
      "광교행 - 양재방면 강남 1077000686 1077000687 1077000688\n",
      "****************************************************************************************************\n",
      "열차종류:일반 도착예정시간:3분 50초\n",
      "성수행 - 교대방면 강남 1002000221 1002000222 1002000223\n",
      "****************************************************************************************************\n",
      "열차종류:일반 도착예정시간:8분 20초\n",
      "성수행 - 교대방면 강남 1002000221 1002000222 1002000223\n",
      "****************************************************************************************************\n"
     ]
    }
   ],
   "source": [
    "respnse = response.json()\n",
    "for row in respnse['realtimeArrivalList']:\n",
    "    print(f'열차종류:{row[\"btrainSttus\"]} 도착예정시간:{int(row[\"barvlDt\"])//60}분 {int(row[\"barvlDt\"])%60}초')\n",
    "    print(row['trainLineNm'],row['statnNm'],row['statnFid'],row['statnId'],row['statnTid'])\n",
    "    print('*'*100)   "
   ]
  },
  {
   "cell_type": "code",
   "execution_count": 13,
   "id": "da09b09b",
   "metadata": {},
   "outputs": [],
   "source": [
    "line2_stations = [\n",
    "    # 본선\n",
    "    \"시청\", \"을지로입구\", \"을지로3가\", \"을지로4가\", \"동대문역사문화공원\", \"신당\", \"상왕십리\",\n",
    "    \"왕십리\", \"한양대\", \"뚝섬\", \"성수\", \"건대입구\", \"구의\", \"강변\", \"잠실나루\", \"잠실\",\n",
    "    \"잠실새내\", \"종합운동장\", \"삼성\", \"선릉\", \"역삼\", \"강남\", \"교대\", \"서초\", \"방배\", \n",
    "    \"사당\", \"낙성대\", \"서울대입구\", \"봉천\", \"신림\", \"신대방\", \"구로디지털단지\", \"대림\",\n",
    "    \"신도림\", \"문래\", \"영등포구청\", \"당산\", \"합정\", \"홍대입구\", \"신촌\", \"이대\", \"아현\",\n",
    "    \"충정로\", \"시청\",\n",
    "    # 성수지선\n",
    "    \"성수\", \"용답\", \"신답\", \"용두\", \"신설동\",\n",
    "    # 신정지선\n",
    "    \"신도림\", \"도림천\", \"양천구청\", \"신정네거리\", \"까치산\"\n",
    "]"
   ]
  },
  {
   "cell_type": "code",
   "execution_count": null,
   "id": "9e751c6e",
   "metadata": {},
   "outputs": [],
   "source": [
    "# 역명 - 역명코드  매핑테이블 만들기\n",
    "mappings = {}\n",
    "for station in line2_stations:\n",
    "    url = f'http://swopenAPI.seoul.go.kr/api/subway/{key}/json/realtimeStationArrival/0/100/{station}'\n",
    "    response = requests.get(url)    \n",
    "    respnse = response.json()\n",
    "    values = []\n",
    "    for row in respnse['realtimeArrivalList']:                        \n",
    "        values.append( row['statnId'] )\n",
    "    mappings[station] = set(values)\n",
    "mappings \n"
   ]
  },
  {
   "cell_type": "code",
   "execution_count": 15,
   "id": "8352004a",
   "metadata": {},
   "outputs": [
    {
     "name": "stdout",
     "output_type": "stream",
     "text": [
      "신설동\n"
     ]
    }
   ],
   "source": [
    "search_id = '1092004713'\n",
    "finded_stname =  [ key for key,values in mappings.items() if search_id in values ]\n",
    "result = finded_stname[0] if finded_stname else None\n",
    "print(result)"
   ]
  },
  {
   "cell_type": "code",
   "execution_count": 16,
   "id": "2ab6145b",
   "metadata": {},
   "outputs": [],
   "source": [
    "# 매핑 함수(역코드 -> 역명)\n",
    "# 2호선기준으로 실시간 도착 역명을 입력 -> 노선, 이전역명, 다음역명, 도착예정시간을 알려주는 코드"
   ]
  },
  {
   "cell_type": "code",
   "execution_count": 17,
   "id": "dc816fd5",
   "metadata": {},
   "outputs": [],
   "source": [
    "# 매핑함수  search_id = '1092004713'\n",
    "def find_station_name(search_id):    \n",
    "    finded_stname =  [ key for key,values in mappings.items() if search_id in values ]\n",
    "    return finded_stname[0] if finded_stname else None  "
   ]
  },
  {
   "cell_type": "code",
   "execution_count": 22,
   "id": "c1133b38",
   "metadata": {},
   "outputs": [
    {
     "name": "stdout",
     "output_type": "stream",
     "text": [
      "열차종류:일반 도착예정시간:2분 30초\n",
      "성수행 - 사당방면,이전역:서울대입구,다음역:사당\n",
      "****************************************************************************************************\n",
      "열차종류:일반 도착예정시간:7분 40초\n",
      "성수행 - 사당방면,이전역:서울대입구,다음역:사당\n",
      "****************************************************************************************************\n",
      "열차종류:일반 도착예정시간:2분 0초\n",
      "성수행 - 서울대입구방면,이전역:사당,다음역:서울대입구\n",
      "****************************************************************************************************\n",
      "열차종류:일반 도착예정시간:6분 40초\n",
      "성수행 - 서울대입구방면,이전역:사당,다음역:서울대입구\n",
      "****************************************************************************************************\n"
     ]
    }
   ],
   "source": [
    "url = f'http://swopenAPI.seoul.go.kr/api/subway/{key}/json/realtimeStationArrival/0/100/낙성대'\n",
    "response = requests.get(url).json()\n",
    "for row in response['realtimeArrivalList']:\n",
    "    print(f'열차종류:{row[\"btrainSttus\"]} 도착예정시간:{int(row[\"barvlDt\"])//60}분 {int(row[\"barvlDt\"])%60}초')\n",
    "    bst = find_station_name( row['statnFid'] )\n",
    "    ast = find_station_name( row['statnTid'] )\n",
    "    print(f\"{row['trainLineNm']},이전역:{bst},다음역:{ast}\")\n",
    "    print('*'*100)           "
   ]
  }
 ],
 "metadata": {
  "kernelspec": {
   "display_name": ".venv",
   "language": "python",
   "name": "python3"
  },
  "language_info": {
   "codemirror_mode": {
    "name": "ipython",
    "version": 3
   },
   "file_extension": ".py",
   "mimetype": "text/x-python",
   "name": "python",
   "nbconvert_exporter": "python",
   "pygments_lexer": "ipython3",
   "version": "3.13.7"
  }
 },
 "nbformat": 4,
 "nbformat_minor": 5
}
