{
 "cells": [
  {
   "cell_type": "code",
   "execution_count": 1,
   "id": "f0ebca96",
   "metadata": {},
   "outputs": [],
   "source": [
    "import requests\n",
    "import dotenv\n",
    "import os\n",
    "dotenv.load_dotenv()  # .env 환경변수 파일을 로드함\n",
    "\n",
    "key = os.getenv(\"SEOUL_SUBWAY_API\")"
   ]
  },
  {
   "cell_type": "code",
   "execution_count": 2,
   "id": "528ee948",
   "metadata": {},
   "outputs": [
    {
     "data": {
      "text/plain": [
       "200"
      ]
     },
     "execution_count": 2,
     "metadata": {},
     "output_type": "execute_result"
    }
   ],
   "source": [
    "# 지하철 실시간 도착정보  https://data.seoul.go.kr/dataList/OA-12764/F/1/datasetView.do\n",
    "# http://swopenAPI.seoul.go.kr/api/subway/(인증키)/xml/realtimeStationArrival/0/5/서울\n",
    "\n",
    "url = f'http://swopenAPI.seoul.go.kr/api/subway/{key}/json/realtimeStationArrival/0/100/강남'\n",
    "response = requests.get(url)\n",
    "response.status_code"
   ]
  },
  {
   "cell_type": "code",
   "execution_count": 3,
   "id": "d4dfdef9",
   "metadata": {},
   "outputs": [
    {
     "data": {
      "text/plain": [
       "{'status': 500,\n",
       " 'code': 'ERROR-338',\n",
       " 'message': '해당 인증키로는 실시간 서비스를 사용할 수 없습니다.',\n",
       " 'link': '',\n",
       " 'developerMessage': '',\n",
       " 'total': 0}"
      ]
     },
     "execution_count": 3,
     "metadata": {},
     "output_type": "execute_result"
    }
   ],
   "source": [
    "respnse = response.json()\n",
    "respnse"
   ]
  }
 ],
 "metadata": {
  "kernelspec": {
   "display_name": ".venv",
   "language": "python",
   "name": "python3"
  },
  "language_info": {
   "codemirror_mode": {
    "name": "ipython",
    "version": 3
   },
   "file_extension": ".py",
   "mimetype": "text/x-python",
   "name": "python",
   "nbconvert_exporter": "python",
   "pygments_lexer": "ipython3",
   "version": "3.13.7"
  }
 },
 "nbformat": 4,
 "nbformat_minor": 5
}
