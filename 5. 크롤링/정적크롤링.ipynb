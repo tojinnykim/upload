{
 "cells": [
  {
   "cell_type": "code",
   "execution_count": 1,
   "id": "2351ba32",
   "metadata": {},
   "outputs": [],
   "source": [
    "# 정적 = 종이책처럼 고정된 내용\n",
    "# 동적 = 태블릿처럼 움직이는 내용"
   ]
  },
  {
   "cell_type": "code",
   "execution_count": 2,
   "id": "4516cdf9",
   "metadata": {},
   "outputs": [
    {
     "name": "stdout",
     "output_type": "stream",
     "text": [
      "Requirement already satisfied: beautifulsoup4 in /Users/jinheekim/week_src/.venv/lib/python3.13/site-packages (4.13.5)\n",
      "Requirement already satisfied: requests in /Users/jinheekim/week_src/.venv/lib/python3.13/site-packages (2.32.5)\n",
      "Requirement already satisfied: soupsieve>1.2 in /Users/jinheekim/week_src/.venv/lib/python3.13/site-packages (from beautifulsoup4) (2.8)\n",
      "Requirement already satisfied: typing-extensions>=4.0.0 in /Users/jinheekim/week_src/.venv/lib/python3.13/site-packages (from beautifulsoup4) (4.14.1)\n",
      "Requirement already satisfied: charset_normalizer<4,>=2 in /Users/jinheekim/week_src/.venv/lib/python3.13/site-packages (from requests) (3.4.3)\n",
      "Requirement already satisfied: idna<4,>=2.5 in /Users/jinheekim/week_src/.venv/lib/python3.13/site-packages (from requests) (3.10)\n",
      "Requirement already satisfied: urllib3<3,>=1.21.1 in /Users/jinheekim/week_src/.venv/lib/python3.13/site-packages (from requests) (2.5.0)\n",
      "Requirement already satisfied: certifi>=2017.4.17 in /Users/jinheekim/week_src/.venv/lib/python3.13/site-packages (from requests) (2025.8.3)\n",
      "Note: you may need to restart the kernel to use updated packages.\n"
     ]
    }
   ],
   "source": [
    "%pip install beautifulsoup4 requests"
   ]
  },
  {
   "cell_type": "code",
   "execution_count": 3,
   "id": "95ee6d2e",
   "metadata": {},
   "outputs": [],
   "source": [
    "import requests\n",
    "from bs4 import BeautifulSoup"
   ]
  },
  {
   "cell_type": "code",
   "execution_count": 4,
   "id": "0ffffb91",
   "metadata": {},
   "outputs": [
    {
     "name": "stdout",
     "output_type": "stream",
     "text": [
      "<!doctype html>\n",
      "<html lang=\"ko\">\n",
      " <head>\n",
      "  <meta charset=\"utf-8\">\n",
      "  <title>Daum</title>\n",
      "  <meta http\n"
     ]
    }
   ],
   "source": [
    "url = 'https://www.daum.net'\n",
    "response = requests.get(url)\n",
    "print(response.text[:100])"
   ]
  },
  {
   "cell_type": "code",
   "execution_count": 5,
   "id": "adbd56ea",
   "metadata": {},
   "outputs": [],
   "source": [
    "html = '''\n",
    "<div id = 'contents'>\n",
    "    <a class='title'>안녕하세요</a>\n",
    "</div>\n",
    "<a class='title2'>안녕하세요2</a>\n",
    "<a href=\"https:www.naver.com\" class=\"link\">네이버</a>\n",
    "'''"
   ]
  },
  {
   "cell_type": "code",
   "execution_count": 6,
   "id": "73afcd40",
   "metadata": {},
   "outputs": [
    {
     "data": {
      "text/plain": [
       "[<a class=\"title\">안녕하세요</a>,\n",
       " <a class=\"title2\">안녕하세요2</a>,\n",
       " <a class=\"link\" href=\"https:www.naver.com\">네이버</a>]"
      ]
     },
     "execution_count": 6,
     "metadata": {},
     "output_type": "execute_result"
    }
   ],
   "source": [
    "soup = BeautifulSoup(html,'html.parser')\n",
    "soup.select('a') # 태그로 찾기 "
   ]
  },
  {
   "cell_type": "code",
   "execution_count": 7,
   "id": "25be6a3f",
   "metadata": {},
   "outputs": [
    {
     "data": {
      "text/plain": [
       "[<div id=\"contents\">\n",
       " <a class=\"title\">안녕하세요</a>\n",
       " </div>]"
      ]
     },
     "execution_count": 7,
     "metadata": {},
     "output_type": "execute_result"
    }
   ],
   "source": [
    "soup.select('#contents') # id='contents' "
   ]
  },
  {
   "cell_type": "code",
   "execution_count": 8,
   "id": "e37280f3",
   "metadata": {},
   "outputs": [
    {
     "data": {
      "text/plain": [
       "[<a class=\"title\">안녕하세요</a>]"
      ]
     },
     "execution_count": 8,
     "metadata": {},
     "output_type": "execute_result"
    }
   ],
   "source": [
    "soup.select('.title') # class = title"
   ]
  },
  {
   "cell_type": "code",
   "execution_count": 9,
   "id": "77d460f7",
   "metadata": {},
   "outputs": [
    {
     "data": {
      "text/plain": [
       "[<a class=\"link\" href=\"https:www.naver.com\">네이버</a>]"
      ]
     },
     "execution_count": 9,
     "metadata": {},
     "output_type": "execute_result"
    }
   ],
   "source": [
    "soup.select(\".link\")"
   ]
  },
  {
   "cell_type": "code",
   "execution_count": 10,
   "id": "0a1425bf",
   "metadata": {},
   "outputs": [
    {
     "data": {
      "text/plain": [
       "'https:www.naver.com'"
      ]
     },
     "execution_count": 10,
     "metadata": {},
     "output_type": "execute_result"
    }
   ],
   "source": [
    "href_tag = soup.select_one(\".link\")\n",
    "href_tag['href']"
   ]
  },
  {
   "cell_type": "code",
   "execution_count": 11,
   "id": "279531ba",
   "metadata": {},
   "outputs": [
    {
     "data": {
      "text/plain": [
       "[<a class=\"title\">안녕하세요</a>]"
      ]
     },
     "execution_count": 11,
     "metadata": {},
     "output_type": "execute_result"
    }
   ],
   "source": [
    "soup.select(\"div > a\")"
   ]
  },
  {
   "cell_type": "code",
   "execution_count": 12,
   "id": "f358d74c",
   "metadata": {},
   "outputs": [],
   "source": [
    "rl = \"https://news.daum.net/\"\n",
    "response = requests.get(url)\n",
    "response.encoding = 'utf-8'\n",
    "soup = BeautifulSoup(response.text, \"html.parser\")\n",
    "ul_tags = soup.select('.list_newsheadline2')\n",
    "for ul in ul_tags:\n",
    "    li_tags = ul.select('li')\n",
    "    for li in li_tags:\n",
    "        print( li.select('.tit_txt')[0].text )\n",
    "    print()"
   ]
  },
  {
   "cell_type": "code",
   "execution_count": 13,
   "id": "78cd8f0b",
   "metadata": {},
   "outputs": [],
   "source": [
    "page_no =1\n",
    "url = f'https://www.hollys.co.kr/store/korea/korStore2.do?pageNo={page_no}'\n",
    "response = requests.get(url)\n",
    "soup = BeautifulSoup(response.text,'html.parser')\n",
    "#contents > div.content > fieldset > fieldset > div.tableType01 > table > tbody > tr\n",
    "tr_tags = soup.select('#contents > div.content > fieldset > fieldset > div.tableType01 > table > tbody > tr')"
   ]
  },
  {
   "cell_type": "code",
   "execution_count": 14,
   "id": "5d8f8fce",
   "metadata": {},
   "outputs": [
    {
     "name": "stdout",
     "output_type": "stream",
     "text": [
      "경기 평택시\n",
      "평택지산점\n",
      "영업중\n",
      "경기도 평택시 지산로 10, 가이아프레지던스 1층  지산동 808-4, 101,102호\n",
      "주차 \n",
      "031-8029-9005\n",
      "\n",
      "서울 영등포구\n",
      "FKI타워2호점\n",
      "영업중\n",
      "서울특별시 영등포구 여의대로 24 (여의도동, 에프케이아이타워) 1층\n",
      "\n",
      "02-782-3647\n",
      "\n",
      "부산 강서구\n",
      "부산명지강변DT점\n",
      "영업중\n",
      "부산광역시 강서구 르노삼성대로 586 (명지동) 1-3층\n",
      "주차 \n",
      "051-710-2800\n",
      "\n",
      "전북 전주시 덕진구\n",
      "전북대의과대점\n",
      "영업중\n",
      "전북특별자치도 전주시 덕진구 건지로 20 (금암동, 전북대학교병원) 의학계학생회관1층\n",
      "주차 \n",
      "063-270-4597\n",
      "\n",
      "강원 인제군\n",
      "(하)내린천휴게소점\n",
      "영업중\n",
      "강원도 인제군 상남면 서울양양고속도로 117 양양방향 내린천휴게소, 1층\n",
      "\n",
      ".\n",
      "\n",
      "강원 인제군\n",
      "(상)내린천휴게소점\n",
      "영업중\n",
      "강원도 인제군 상남면 서울양양고속도로 117  서울방향 내린천휴게소 4층\n",
      "\n",
      ".\n",
      "\n",
      "대전 서구\n",
      "대전호수공원점\n",
      "영업중\n",
      "대전광역시 서구 도안동로 234-42 1,2층 도안동 2336\n",
      "주차 \n",
      "070-4651-6636\n",
      "\n",
      "부산 남구\n",
      "국립부경대청운관점\n",
      "영업중\n",
      "부산광역시 남구 용소로 45 (대연동, 국립부경대학교대연캠퍼스) 청운관 1층\n",
      "\n",
      "051-629-7419\n",
      "\n",
      "경기 이천시\n",
      "이천점\n",
      "영업중\n",
      "경기도 이천시 어재연로 35, 1~3층 (창전동 160-25)\n",
      "흡연시설 \n",
      "031-635-6655\n",
      "\n",
      "충남 공주시\n",
      "(하)정안알밤휴게소점\n",
      "영업중\n",
      "충청남도 공주시 정안면 논산천안고속도로 57 (정안하행휴게소) .\n",
      "테라스 주차 \n",
      "\n",
      "\n"
     ]
    }
   ],
   "source": [
    "for tr in tr_tags:\n",
    "    for idx,td in enumerate(tr.select('td')):    \n",
    "        if idx == 4:\n",
    "            for img in td.select('img'):\n",
    "                print(img['alt'],end=' ')\n",
    "            print()\n",
    "        else:\n",
    "            print(td.text)\n",
    "    print()"
   ]
  },
  {
   "cell_type": "code",
   "execution_count": 15,
   "id": "d03c04c4",
   "metadata": {},
   "outputs": [
    {
     "data": {
      "text/plain": [
       "'주차'"
      ]
     },
     "execution_count": 15,
     "metadata": {},
     "output_type": "execute_result"
    }
   ],
   "source": [
    "tr_tags[0].select('td')[4].select_one('img')['alt']"
   ]
  }
 ],
 "metadata": {
  "kernelspec": {
   "display_name": ".venv",
   "language": "python",
   "name": "python3"
  },
  "language_info": {
   "codemirror_mode": {
    "name": "ipython",
    "version": 3
   },
   "file_extension": ".py",
   "mimetype": "text/x-python",
   "name": "python",
   "nbconvert_exporter": "python",
   "pygments_lexer": "ipython3",
   "version": "3.13.7"
  }
 },
 "nbformat": 4,
 "nbformat_minor": 5
}
