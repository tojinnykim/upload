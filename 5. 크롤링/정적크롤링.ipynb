{
 "cells": [
  {
   "cell_type": "code",
   "execution_count": 66,
   "id": "2351ba32",
   "metadata": {},
   "outputs": [],
   "source": [
    "# 정적 = 종이책처럼 고정된 내용\n",
    "# 동적 = 태블릿처럼 움직이는 내용"
   ]
  },
  {
   "cell_type": "code",
   "execution_count": 67,
   "id": "4516cdf9",
   "metadata": {},
   "outputs": [
    {
     "name": "stdout",
     "output_type": "stream",
     "text": [
      "Requirement already satisfied: beautifulsoup4 in /Users/jinheekim/week_src/.venv/lib/python3.13/site-packages (4.13.5)\n",
      "Requirement already satisfied: requests in /Users/jinheekim/week_src/.venv/lib/python3.13/site-packages (2.32.5)\n",
      "Requirement already satisfied: soupsieve>1.2 in /Users/jinheekim/week_src/.venv/lib/python3.13/site-packages (from beautifulsoup4) (2.8)\n",
      "Requirement already satisfied: typing-extensions>=4.0.0 in /Users/jinheekim/week_src/.venv/lib/python3.13/site-packages (from beautifulsoup4) (4.14.1)\n",
      "Requirement already satisfied: charset_normalizer<4,>=2 in /Users/jinheekim/week_src/.venv/lib/python3.13/site-packages (from requests) (3.4.3)\n",
      "Requirement already satisfied: idna<4,>=2.5 in /Users/jinheekim/week_src/.venv/lib/python3.13/site-packages (from requests) (3.10)\n",
      "Requirement already satisfied: urllib3<3,>=1.21.1 in /Users/jinheekim/week_src/.venv/lib/python3.13/site-packages (from requests) (2.5.0)\n",
      "Requirement already satisfied: certifi>=2017.4.17 in /Users/jinheekim/week_src/.venv/lib/python3.13/site-packages (from requests) (2025.8.3)\n",
      "Note: you may need to restart the kernel to use updated packages.\n"
     ]
    }
   ],
   "source": [
    "%pip install beautifulsoup4 requests"
   ]
  },
  {
   "cell_type": "code",
   "execution_count": 68,
   "id": "95ee6d2e",
   "metadata": {},
   "outputs": [],
   "source": [
    "import requests\n",
    "from bs4 import BeautifulSoup"
   ]
  },
  {
   "cell_type": "code",
   "execution_count": 69,
   "id": "0ffffb91",
   "metadata": {},
   "outputs": [
    {
     "name": "stdout",
     "output_type": "stream",
     "text": [
      "<!doctype html>\n",
      "<html lang=\"ko\">\n",
      " <head>\n",
      "  <meta charset=\"utf-8\">\n",
      "  <title>Daum</title>\n",
      "  <meta http\n"
     ]
    }
   ],
   "source": [
    "url = 'https://www.daum.net'\n",
    "response = requests.get(url)\n",
    "print(response.text[:100])"
   ]
  },
  {
   "cell_type": "code",
   "execution_count": 70,
   "id": "adbd56ea",
   "metadata": {},
   "outputs": [],
   "source": [
    "html = '''\n",
    "<div id = 'contents'>\n",
    "    <a class='title'>안녕하세요</a>\n",
    "</div>\n",
    "<a class='title2'>안녕하세요2</a>\n",
    "<a href=\"https:www.naver.com\" class=\"link\">네이버</a>\n",
    "'''"
   ]
  },
  {
   "cell_type": "code",
   "execution_count": 71,
   "id": "73afcd40",
   "metadata": {},
   "outputs": [
    {
     "data": {
      "text/plain": [
       "[<a class=\"title\">안녕하세요</a>,\n",
       " <a class=\"title2\">안녕하세요2</a>,\n",
       " <a class=\"link\" href=\"https:www.naver.com\">네이버</a>]"
      ]
     },
     "execution_count": 71,
     "metadata": {},
     "output_type": "execute_result"
    }
   ],
   "source": [
    "soup = BeautifulSoup(html,'html.parser')\n",
    "soup.select('a') # 태그로 찾기 "
   ]
  },
  {
   "cell_type": "code",
   "execution_count": 72,
   "id": "25be6a3f",
   "metadata": {},
   "outputs": [
    {
     "data": {
      "text/plain": [
       "[<div id=\"contents\">\n",
       " <a class=\"title\">안녕하세요</a>\n",
       " </div>]"
      ]
     },
     "execution_count": 72,
     "metadata": {},
     "output_type": "execute_result"
    }
   ],
   "source": [
    "soup.select('#contents') # id='contents' "
   ]
  },
  {
   "cell_type": "code",
   "execution_count": 73,
   "id": "e37280f3",
   "metadata": {},
   "outputs": [
    {
     "data": {
      "text/plain": [
       "[<a class=\"title\">안녕하세요</a>]"
      ]
     },
     "execution_count": 73,
     "metadata": {},
     "output_type": "execute_result"
    }
   ],
   "source": [
    "soup.select('.title') # class = title"
   ]
  },
  {
   "cell_type": "code",
   "execution_count": 74,
   "id": "77d460f7",
   "metadata": {},
   "outputs": [
    {
     "data": {
      "text/plain": [
       "[<a class=\"link\" href=\"https:www.naver.com\">네이버</a>]"
      ]
     },
     "execution_count": 74,
     "metadata": {},
     "output_type": "execute_result"
    }
   ],
   "source": [
    "soup.select(\".link\")"
   ]
  },
  {
   "cell_type": "code",
   "execution_count": 75,
   "id": "0a1425bf",
   "metadata": {},
   "outputs": [
    {
     "data": {
      "text/plain": [
       "'https:www.naver.com'"
      ]
     },
     "execution_count": 75,
     "metadata": {},
     "output_type": "execute_result"
    }
   ],
   "source": [
    "href_tag = soup.select_one(\".link\")\n",
    "href_tag['href']"
   ]
  },
  {
   "cell_type": "code",
   "execution_count": 76,
   "id": "279531ba",
   "metadata": {},
   "outputs": [
    {
     "data": {
      "text/plain": [
       "[<a class=\"title\">안녕하세요</a>]"
      ]
     },
     "execution_count": 76,
     "metadata": {},
     "output_type": "execute_result"
    }
   ],
   "source": [
    "soup.select(\"div > a\")"
   ]
  },
  {
   "cell_type": "code",
   "execution_count": 91,
   "id": "f358d74c",
   "metadata": {},
   "outputs": [
    {
     "name": "stdout",
     "output_type": "stream",
     "text": [
      "'한강버스' 열흘 만에 운항 중단…한 달간 '무승객 시범운항'(종합)\n",
      "이진숙 \"개딸 추석선물, 헌소\"…與 \"국민호도, 역사앞 반성하라\"(종합)\n",
      "'국정자원 화재'로 부각된 배터리 안전성 논란..정부 ESS 진흥에 악영향 우려\n",
      "[단독] 불과 1년 전 ‘화재 상황시 대국민 행정서비스 중단 방지’ 훈련한 국가정보자원관리원\n",
      "정부 서버 옆 60㎝…리튬이온배터리 옮기다 불났다\n",
      "李 대통령 “국정자원, 이중 운영 체계 미비...재발 방지 근본적 체계 구축”\n",
      "지자체, 공공기관도 비상... ‘월요일 민원 대란’ 우려\n",
      "\"전산망 이중시스템 미비가 일 키워\"…'카톡 먹통' 재연 지적도\n",
      "국민의힘 \"李, 김현지 실명 거론…대통령실 권력 서열 뒤틀려\"\n",
      "\n",
      "무기력한 교실, 작은 변화를 싹틔우는 심리 수업 [.txt]\n",
      "\"가방에 마약 덩어리\" 평범한 그 남자가 운반책…초고속 검거한 경찰\n",
      "‘은중과 상연’ 김고은의 ‘비범한 평범’을 질투하다\n",
      "[삶] \"북한군, 남한군 우습게 본다…韓 핵무장 불가피\"…前특전사령관\n",
      "200억 부동산 기부 ‘노블레스 오블리주’ 취재 실패기\n",
      "\n",
      "[그래픽] 연령대별 1인당 평균 가계대출 잔액\n",
      "\n",
      "[김회룡의 시사 TOON]\n",
      "\n"
     ]
    }
   ],
   "source": [
    "rl = \"https://news.daum.net/\"\n",
    "response = requests.get(url)\n",
    "response.encoding = 'utf-8'\n",
    "soup = BeautifulSoup(response.text, \"html.parser\")\n",
    "ul_tags = soup.select('.list_newsheadline2')\n",
    "for ul in ul_tags:\n",
    "    li_tags = ul.select('li')\n",
    "    for li in li_tags:\n",
    "        print( li.select('.tit_txt')[0].text )\n",
    "    print()"
   ]
  },
  {
   "cell_type": "code",
   "execution_count": 110,
   "id": "78cd8f0b",
   "metadata": {},
   "outputs": [],
   "source": [
    "page_no =1\n",
    "url = f'https://www.hollys.co.kr/store/korea/korStore2.do?pageNo={page_no}'\n",
    "response = requests.get(url)\n",
    "soup = BeautifulSoup(response.text,'html.parser')\n",
    "#contents > div.content > fieldset > fieldset > div.tableType01 > table > tbody > tr\n",
    "tr_tags = soup.select('#contents > div.content > fieldset > fieldset > div.tableType01 > table > tbody > tr')"
   ]
  },
  {
   "cell_type": "code",
   "execution_count": 111,
   "id": "5d8f8fce",
   "metadata": {},
   "outputs": [
    {
     "name": "stdout",
     "output_type": "stream",
     "text": [
      "대전 서구\n",
      "대전호수공원점\n",
      "영업중\n",
      "대전광역시 서구 도안동로 234-42 1,2층 도안동 2336\n",
      "주차 \n",
      "070-4651-6636\n",
      "\n",
      "부산 남구\n",
      "국립부경대청운관점\n",
      "영업중\n",
      "부산광역시 남구 용소로 45 (대연동, 국립부경대학교대연캠퍼스) 청운관 1층\n",
      "\n",
      "051-629-7419\n",
      "\n",
      "경기 이천시\n",
      "이천점\n",
      "영업중\n",
      "경기도 이천시 어재연로 35, 1~3층 (창전동 160-25)\n",
      "흡연시설 \n",
      "031-635-6655\n",
      "\n",
      "충남 공주시\n",
      "(하)정안알밤휴게소점\n",
      "영업중\n",
      "충청남도 공주시 정안면 논산천안고속도로 57 (정안하행휴게소) .\n",
      "테라스 주차 \n",
      "\n",
      "\n",
      "충남 공주시\n",
      "(상)정안알밤휴게소점\n",
      "영업중\n",
      "충청남도 공주시 정안면 논산천안고속도로 58 (정안상행휴게소) .\n",
      "테라스 주차 \n",
      "\n",
      "\n",
      "제주 제주시\n",
      "제주곽지해수욕장점\n",
      "영업중\n",
      "제주특별자치도 제주시 애월읍 곽지3길 27-1 2~3층\n",
      "\n",
      "064-799-1137 \n",
      "\n",
      "서울 동작구\n",
      "신대방삼거리역점\n",
      "영업중\n",
      "서울특별시 동작구 상도로 60 (대방동) 1층~2층\n",
      "\n",
      "02-823-2377\n",
      "\n",
      "대전 중구\n",
      "대전삼부스포렉스점\n",
      "영업중\n",
      "대전광역시 중구 태평로 83, 삼부스포렉스 1층 (태평동 408-11) .\n",
      "주차 \n",
      "042-301-9960\n",
      "\n",
      "전북 익산시\n",
      "익산부송점\n",
      "영업중\n",
      "전라북도 익산시 하나로10길 70-1 (부송동, 레스트빌딩 1층) .\n",
      "주차 \n",
      "063-832-1717\n",
      "\n",
      "경남 창원시 진해구\n",
      "진해속천점\n",
      "영업중\n",
      "경상남도 창원시 진해구 태평로 132 (속천동) 2~3층\n",
      "테라스 주차 \n",
      "070-7786-1019\n",
      "\n"
     ]
    }
   ],
   "source": [
    "for tr in tr_tags:\n",
    "    for idx,td in enumerate(tr.select('td')):    \n",
    "        if idx == 4:\n",
    "            for img in td.select('img'):\n",
    "                print(img['alt'],end=' ')\n",
    "            print()\n",
    "        else:\n",
    "            print(td.text)\n",
    "    print()"
   ]
  },
  {
   "cell_type": "code",
   "execution_count": 112,
   "id": "d03c04c4",
   "metadata": {},
   "outputs": [
    {
     "data": {
      "text/plain": [
       "'주차'"
      ]
     },
     "execution_count": 112,
     "metadata": {},
     "output_type": "execute_result"
    }
   ],
   "source": [
    "tr_tags[0].select('td')[4].select_one('img')['alt']"
   ]
  }
 ],
 "metadata": {
  "kernelspec": {
   "display_name": ".venv",
   "language": "python",
   "name": "python3"
  },
  "language_info": {
   "codemirror_mode": {
    "name": "ipython",
    "version": 3
   },
   "file_extension": ".py",
   "mimetype": "text/x-python",
   "name": "python",
   "nbconvert_exporter": "python",
   "pygments_lexer": "ipython3",
   "version": "3.13.7"
  }
 },
 "nbformat": 4,
 "nbformat_minor": 5
}
