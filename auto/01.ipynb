{
 "cells": [
  {
   "cell_type": "code",
   "execution_count": null,
   "id": "88a11f2d",
   "metadata": {},
   "outputs": [],
   "source": [
    "# 구글메일을 열어서\n",
    "# 메일의 키본별로 엑셀시트에 정리\n",
    "# 1. 같은 키본은 해당 키본시트에 작성"
   ]
  },
  {
   "cell_type": "code",
   "execution_count": null,
   "id": "ab514694",
   "metadata": {},
   "outputs": [],
   "source": [
    "# 확인사항\n",
    "# 개인 구글메일을 당사자가 크롤링 할수 있는지 여부"
   ]
  },
  {
   "cell_type": "code",
   "execution_count": null,
   "id": "2ad29fe0",
   "metadata": {},
   "outputs": [],
   "source": [
    "import os.path\n",
    "import base64\n",
    "from google.auth.transport.requests import Request\n",
    "from google.oauth2.credentials import Credentials\n",
    "from google_auth_oauthlib.flow import InstalledAppFlow\n",
    "from googleapiclient.discovery import build\n",
    "from googleapiclient.errors import HttpError"
   ]
  },
  {
   "cell_type": "code",
   "execution_count": null,
   "id": "ffb800ae",
   "metadata": {},
   "outputs": [],
   "source": [
    "  # token.json에 저장된 사용자 인증 정보가 있으면 로드\n",
    "# Gmail API 권한 범위\n",
    "SCOPES = ['https://www.googleapis.com/auth/gmail.readonly']\n",
    "service = None\n",
    "def authenticate():\n",
    "        \"\"\"Google 인증\"\"\"\n",
    "        creds = None\n",
    "        \n",
    "        # token.json에 저장된 사용자 인증 정보가 있으면 로드\n",
    "        if os.path.exists('token.json'):\n",
    "            creds = Credentials.from_authorized_user_file('token.json', SCOPES)\n",
    "        \n",
    "        # 유효한 인증 정보가 없으면 로그인 실행\n",
    "        if not creds or not creds.valid:\n",
    "            if creds and creds.expired and creds.refresh_token:\n",
    "                creds.refresh(Request())\n",
    "            else:\n",
    "                if not os.path.exists('credentials.json'):\n",
    "                    print(\"\\n\" + \"=\"*60)\n",
    "                    print(\"ERROR: credentials.json 파일이 없습니다!\")\n",
    "                    print(\"\\nGoogle Cloud Console에서 OAuth 2.0 클라이언트 ID를 생성하고\")\n",
    "                    print(\"credentials.json 파일을 다운로드한 후 이 폴더에 저장하세요.\")\n",
    "                    print(\"\\n1. https://console.cloud.google.com/ 접속\")\n",
    "                    print(\"2. 프로젝트 생성\")\n",
    "                    print(\"3. Gmail API 활성화\")\n",
    "                    print(\"4. OAuth 동의 화면 구성\")\n",
    "                    print(\"5. 사용자 인증 정보 > OAuth 2.0 클라이언트 ID 생성 (데스크톱 앱)\")\n",
    "                    print(\"6. credentials.json 다운로드\")\n",
    "                    print(\"=\"*60 + \"\\n\")\n",
    "                    return\n",
    "                \n",
    "                flow = InstalledAppFlow.from_client_secrets_file(\n",
    "                    'credentials.json', SCOPES)\n",
    "                # 포트를 명시적으로 지정하고 브라우저 자동 실행\n",
    "                creds = flow.run_local_server(\n",
    "                    port=0,\n",
    "                    authorization_prompt_message='브라우저에서 인증을 진행해주세요...',\n",
    "                    success_message='인증 완료! 이 창을 닫아도 됩니다.',\n",
    "                    open_browser=True\n",
    "                )\n",
    "            \n",
    "            # 인증 정보 저장\n",
    "            with open('token.json', 'w') as token:\n",
    "                token.write(creds.to_json())\n",
    "        \n",
    "        service = build('gmail', 'v1', credentials=creds)\n",
    "        print(\"Gmail API 인증 완료!\\n\")\n",
    "authenticate()        "
   ]
  }
 ],
 "metadata": {
  "kernelspec": {
   "display_name": ".venv",
   "language": "python",
   "name": "python3"
  },
  "language_info": {
   "codemirror_mode": {
    "name": "ipython",
    "version": 3
   },
   "file_extension": ".py",
   "mimetype": "text/x-python",
   "name": "python",
   "nbconvert_exporter": "python",
   "pygments_lexer": "ipython3",
   "version": "3.13.7"
  }
 },
 "nbformat": 4,
 "nbformat_minor": 5
}
