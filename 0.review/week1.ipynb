{
 "cells": [
  {
   "cell_type": "code",
   "execution_count": 1,
   "id": "4339cb64",
   "metadata": {},
   "outputs": [],
   "source": [
    "import pandas as pd"
   ]
  },
  {
   "cell_type": "code",
   "execution_count": null,
   "id": "9d804fa8",
   "metadata": {},
   "outputs": [],
   "source": [
    "# 기본 정보 확인\n",
    "print(df.head(2))        # 처음 5행\n",
    "print(df.tail(3))        # 마지막 5행\n",
    "print(df.info())        # 데이터 타입, 결측값 정보\n",
    "print(df.describe())    # 통계 요약\n",
    "print(df.shape)         # (행, 열) 크기\n",
    "print(df.columns)       # 컬럼명 리스트"
   ]
  },
  {
   "cell_type": "code",
   "execution_count": null,
   "id": "f8d20159",
   "metadata": {},
   "outputs": [],
   "source": [
    "# 예제 1: 우리 가족 정보 관리\n",
    "# 문제: 가족 구성원의 정보를 DataFrame으로 만들고 분석해보세요.\n",
    "# 요구사항:\n",
    "    # 이름, 나이, 관계, 좋아하는_음식 정보로 DataFrame 만들기\n",
    "    # 전체 데이터 출력\n",
    "    # 처음 3명만 보기\n",
    "    # 데이터 기본 정보 확인 (info, describe)\n",
    "    # Excel로 저장하기\n",
    "\n",
    "import pandas as pd\n",
    "\n",
    "# 가족 구성원의 정보를 DataFrame으로 만들고 분석해보기\n",
    "jinny_family = {\n",
    "    '이름': ['김동만', '박수현', '김진희', '김나희'],\n",
    "    '나이': [68, 65, 38, 34],\n",
    "    '관계': ['아빠', '엄마', '본인', '동생'],\n",
    "    '좋아하는 음식': ['라면', '빵', '떡볶이', '마라탕']\n",
    "}\n",
    "\n",
    "df = pd.DataFrame(jinny_family)\n",
    "print(\"===지니네 가족정보===\")\n",
    "print(df)\n",
    "\n",
    "print(\"\\n===처음 3명 정보===\")\n",
    "print(df.head(3))        # 처음 5행\n",
    "\n",
    "# 데이터 기본 정보\n",
    "print(\"\\n=== 데이터 정보 ===\")\n",
    "print(df.info())\n",
    "\n",
    "print(\"\\n=== 나이 통계 ===\")\n",
    "print(df['나이'].describe())\n",
    "\n",
    "# 가족 평균 나이\n",
    "print(f\"\\n우리 가족 평균 나이: {df['나이'].mean():.1f}세\")\n",
    "\n",
    "df.to_excel('지니네 가족정보.xlsx', index=False)"
   ]
  },
  {
   "cell_type": "code",
   "execution_count": 30,
   "id": "a799436b",
   "metadata": {},
   "outputs": [
    {
     "name": "stdout",
     "output_type": "stream",
     "text": [
      "=== 이번 주 공부 기록 ===\n",
      "  요일  파이썬  영어  운동  독서\n",
      "0  월   60  30  30  20\n",
      "1  화   90  30   0  20\n",
      "2  수   45  30  30   0\n",
      "3  목  120   0  30  20\n",
      "4  금   60  30   0  20\n",
      "5  토  180  60  60  30\n",
      "6  일   90  30  30  40\n"
     ]
    }
   ],
   "source": [
    "# 예제 2: 이번 주 공부 시간 기록\n",
    "# 문제:이번 주 매일 공부한 시간을 기록하고 분석해보세요.\n",
    "# 요구사항:\n",
    "    # 1. 요일, 파이썬, 영어, 운동, 독서 시간(분)으로 DataFrame 만들기\n",
    "    # 2. 총_공부시간 컬럼 추가 (모든 시간 합계)\n",
    "    # 3. 가장 많이 공부한 날 찾기\n",
    "    # 4. 과목별 평균 시간 계산\n",
    "    # 5. CSV로 저장하기\n",
    "\n",
    "import pandas as pd\n",
    "\n",
    "study_log = {\n",
    "'요일': ['월', '화', '수', '목', '금', '토', '일'],\n",
    "'파이썬': [60, 90, 45, 120, 60, 180, 90],\n",
    "'영어': [30, 30, 30, 0, 30, 60, 30],\n",
    "'운동': [30, 0, 30, 30, 0, 60, 30],\n",
    "'독서': [20, 20, 0, 20, 20, 30, 40]\n",
    "}\n",
    "df = pd.DataFrame(study_log)\n",
    "print(\"=== 이번 주 공부 기록 ===\")\n",
    "print(df)\n"
   ]
  }
 ],
 "metadata": {
  "kernelspec": {
   "display_name": ".venv",
   "language": "python",
   "name": "python3"
  },
  "language_info": {
   "codemirror_mode": {
    "name": "ipython",
    "version": 3
   },
   "file_extension": ".py",
   "mimetype": "text/x-python",
   "name": "python",
   "nbconvert_exporter": "python",
   "pygments_lexer": "ipython3",
   "version": "3.13.7"
  }
 },
 "nbformat": 4,
 "nbformat_minor": 5
}
